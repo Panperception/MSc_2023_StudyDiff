{
 "cells": [
  {
   "cell_type": "code",
   "execution_count": 1,
   "metadata": {},
   "outputs": [],
   "source": [
    "import wandb\n",
    "from pytorch_lightning.loggers import WandbLogger\n",
    "import os\n",
    "\n",
    "# os.environ[\"https_proxy\"] = \"http://172.20.0.113:12798\"\n",
    "# os.environ[\"http_proxy\"] = \"http://172.20.0.113:12798\"\n",
    "os.environ[\"WANDB_NOTEBOOK_NAME\"] = \"/root/lancaster_dissertation_code/annotated_diffusion/main.ipynb\"\n",
    "\n",
    "# wandb.login()\n",
    "# a21ecfe3d3c08ddc3e7f628f6005f63c3048cb0a\n",
    "\n",
    "# wandb_logger = WandbLogger()"
   ]
  },
  {
   "cell_type": "markdown",
   "metadata": {},
   "source": [
    "# Train Model"
   ]
  },
  {
   "cell_type": "code",
   "execution_count": 2,
   "metadata": {},
   "outputs": [
    {
     "name": "stderr",
     "output_type": "stream",
     "text": [
      "GPU available: True (cuda), used: True\n",
      "TPU available: False, using: 0 TPU cores\n",
      "IPU available: False, using: 0 IPUs\n",
      "HPU available: False, using: 0 HPUs\n",
      "/root/miniconda3/envs/pytorch_env/lib/python3.8/site-packages/lightning/pytorch/trainer/connectors/logger_connector/logger_connector.py:67: UserWarning: Starting from v1.9.0, `tensorboardX` has been removed as a dependency of the `lightning.pytorch` package, due to potential conflicts with other packages in the ML ecosystem. For this reason, `logger=True` will use `CSVLogger` as the default logger, unless the `tensorboard` or `tensorboardX` packages are found. Please `pip install lightning[extra]` or one of them to enable TensorBoard support by default\n",
      "  warning_cache.warn(\n",
      "LOCAL_RANK: 0 - CUDA_VISIBLE_DEVICES: [0]\n",
      "\n",
      "  | Name | Type | Params\n",
      "------------------------------\n",
      "0 | net  | Unet | 3.0 M \n",
      "------------------------------\n",
      "3.0 M     Trainable params\n",
      "0         Non-trainable params\n",
      "3.0 M     Total params\n",
      "11.985    Total estimated model params size (MB)\n",
      "/root/miniconda3/envs/pytorch_env/lib/python3.8/site-packages/lightning/pytorch/loops/fit_loop.py:280: PossibleUserWarning: The number of training batches (47) is smaller than the logging interval Trainer(log_every_n_steps=50). Set a lower value for log_every_n_steps if you want to see logs for the training epoch.\n",
      "  rank_zero_warn(\n"
     ]
    },
    {
     "data": {
      "application/vnd.jupyter.widget-view+json": {
       "model_id": "d9d8a0b5b63744d7a845e5f4185e712e",
       "version_major": 2,
       "version_minor": 0
      },
      "text/plain": [
       "Training: 0it [00:00, ?it/s]"
      ]
     },
     "metadata": {},
     "output_type": "display_data"
    },
    {
     "name": "stderr",
     "output_type": "stream",
     "text": [
      "`Trainer.fit` stopped: `max_epochs=8` reached.\n"
     ]
    },
    {
     "data": {
      "text/plain": [
       "Unet(\n",
       "  (init_conv): Conv2d(1, 18, kernel_size=(7, 7), stride=(1, 1), padding=(3, 3))\n",
       "  (time_mlp): Sequential(\n",
       "    (0): SinusoidalPositionEmbeddings()\n",
       "    (1): Linear(in_features=28, out_features=112, bias=True)\n",
       "    (2): GELU(approximate='none')\n",
       "    (3): Linear(in_features=112, out_features=112, bias=True)\n",
       "  )\n",
       "  (downs): ModuleList(\n",
       "    (0): ModuleList(\n",
       "      (0): ConvNextBlock(\n",
       "        (mlp): Sequential(\n",
       "          (0): GELU(approximate='none')\n",
       "          (1): Linear(in_features=112, out_features=18, bias=True)\n",
       "        )\n",
       "        (ds_conv): Conv2d(18, 18, kernel_size=(7, 7), stride=(1, 1), padding=(3, 3), groups=18)\n",
       "        (net): Sequential(\n",
       "          (0): GroupNorm(1, 18, eps=1e-05, affine=True)\n",
       "          (1): Conv2d(18, 56, kernel_size=(3, 3), stride=(1, 1), padding=(1, 1))\n",
       "          (2): GELU(approximate='none')\n",
       "          (3): GroupNorm(1, 56, eps=1e-05, affine=True)\n",
       "          (4): Conv2d(56, 28, kernel_size=(3, 3), stride=(1, 1), padding=(1, 1))\n",
       "        )\n",
       "        (res_conv): Conv2d(18, 28, kernel_size=(1, 1), stride=(1, 1))\n",
       "      )\n",
       "      (1): ConvNextBlock(\n",
       "        (mlp): Sequential(\n",
       "          (0): GELU(approximate='none')\n",
       "          (1): Linear(in_features=112, out_features=28, bias=True)\n",
       "        )\n",
       "        (ds_conv): Conv2d(28, 28, kernel_size=(7, 7), stride=(1, 1), padding=(3, 3), groups=28)\n",
       "        (net): Sequential(\n",
       "          (0): GroupNorm(1, 28, eps=1e-05, affine=True)\n",
       "          (1): Conv2d(28, 56, kernel_size=(3, 3), stride=(1, 1), padding=(1, 1))\n",
       "          (2): GELU(approximate='none')\n",
       "          (3): GroupNorm(1, 56, eps=1e-05, affine=True)\n",
       "          (4): Conv2d(56, 28, kernel_size=(3, 3), stride=(1, 1), padding=(1, 1))\n",
       "        )\n",
       "        (res_conv): Identity()\n",
       "      )\n",
       "      (2): Residual(\n",
       "        (fn): PreNorm(\n",
       "          (fn): LinearAttention(\n",
       "            (to_qkv): Conv2d(28, 384, kernel_size=(1, 1), stride=(1, 1), bias=False)\n",
       "            (to_out): Sequential(\n",
       "              (0): Conv2d(128, 28, kernel_size=(1, 1), stride=(1, 1))\n",
       "              (1): GroupNorm(1, 28, eps=1e-05, affine=True)\n",
       "            )\n",
       "          )\n",
       "          (norm): GroupNorm(1, 28, eps=1e-05, affine=True)\n",
       "        )\n",
       "      )\n",
       "      (3): Conv2d(28, 28, kernel_size=(4, 4), stride=(2, 2), padding=(1, 1))\n",
       "    )\n",
       "    (1): ModuleList(\n",
       "      (0): ConvNextBlock(\n",
       "        (mlp): Sequential(\n",
       "          (0): GELU(approximate='none')\n",
       "          (1): Linear(in_features=112, out_features=28, bias=True)\n",
       "        )\n",
       "        (ds_conv): Conv2d(28, 28, kernel_size=(7, 7), stride=(1, 1), padding=(3, 3), groups=28)\n",
       "        (net): Sequential(\n",
       "          (0): GroupNorm(1, 28, eps=1e-05, affine=True)\n",
       "          (1): Conv2d(28, 112, kernel_size=(3, 3), stride=(1, 1), padding=(1, 1))\n",
       "          (2): GELU(approximate='none')\n",
       "          (3): GroupNorm(1, 112, eps=1e-05, affine=True)\n",
       "          (4): Conv2d(112, 56, kernel_size=(3, 3), stride=(1, 1), padding=(1, 1))\n",
       "        )\n",
       "        (res_conv): Conv2d(28, 56, kernel_size=(1, 1), stride=(1, 1))\n",
       "      )\n",
       "      (1): ConvNextBlock(\n",
       "        (mlp): Sequential(\n",
       "          (0): GELU(approximate='none')\n",
       "          (1): Linear(in_features=112, out_features=56, bias=True)\n",
       "        )\n",
       "        (ds_conv): Conv2d(56, 56, kernel_size=(7, 7), stride=(1, 1), padding=(3, 3), groups=56)\n",
       "        (net): Sequential(\n",
       "          (0): GroupNorm(1, 56, eps=1e-05, affine=True)\n",
       "          (1): Conv2d(56, 112, kernel_size=(3, 3), stride=(1, 1), padding=(1, 1))\n",
       "          (2): GELU(approximate='none')\n",
       "          (3): GroupNorm(1, 112, eps=1e-05, affine=True)\n",
       "          (4): Conv2d(112, 56, kernel_size=(3, 3), stride=(1, 1), padding=(1, 1))\n",
       "        )\n",
       "        (res_conv): Identity()\n",
       "      )\n",
       "      (2): Residual(\n",
       "        (fn): PreNorm(\n",
       "          (fn): LinearAttention(\n",
       "            (to_qkv): Conv2d(56, 384, kernel_size=(1, 1), stride=(1, 1), bias=False)\n",
       "            (to_out): Sequential(\n",
       "              (0): Conv2d(128, 56, kernel_size=(1, 1), stride=(1, 1))\n",
       "              (1): GroupNorm(1, 56, eps=1e-05, affine=True)\n",
       "            )\n",
       "          )\n",
       "          (norm): GroupNorm(1, 56, eps=1e-05, affine=True)\n",
       "        )\n",
       "      )\n",
       "      (3): Conv2d(56, 56, kernel_size=(4, 4), stride=(2, 2), padding=(1, 1))\n",
       "    )\n",
       "    (2): ModuleList(\n",
       "      (0): ConvNextBlock(\n",
       "        (mlp): Sequential(\n",
       "          (0): GELU(approximate='none')\n",
       "          (1): Linear(in_features=112, out_features=56, bias=True)\n",
       "        )\n",
       "        (ds_conv): Conv2d(56, 56, kernel_size=(7, 7), stride=(1, 1), padding=(3, 3), groups=56)\n",
       "        (net): Sequential(\n",
       "          (0): GroupNorm(1, 56, eps=1e-05, affine=True)\n",
       "          (1): Conv2d(56, 224, kernel_size=(3, 3), stride=(1, 1), padding=(1, 1))\n",
       "          (2): GELU(approximate='none')\n",
       "          (3): GroupNorm(1, 224, eps=1e-05, affine=True)\n",
       "          (4): Conv2d(224, 112, kernel_size=(3, 3), stride=(1, 1), padding=(1, 1))\n",
       "        )\n",
       "        (res_conv): Conv2d(56, 112, kernel_size=(1, 1), stride=(1, 1))\n",
       "      )\n",
       "      (1): ConvNextBlock(\n",
       "        (mlp): Sequential(\n",
       "          (0): GELU(approximate='none')\n",
       "          (1): Linear(in_features=112, out_features=112, bias=True)\n",
       "        )\n",
       "        (ds_conv): Conv2d(112, 112, kernel_size=(7, 7), stride=(1, 1), padding=(3, 3), groups=112)\n",
       "        (net): Sequential(\n",
       "          (0): GroupNorm(1, 112, eps=1e-05, affine=True)\n",
       "          (1): Conv2d(112, 224, kernel_size=(3, 3), stride=(1, 1), padding=(1, 1))\n",
       "          (2): GELU(approximate='none')\n",
       "          (3): GroupNorm(1, 224, eps=1e-05, affine=True)\n",
       "          (4): Conv2d(224, 112, kernel_size=(3, 3), stride=(1, 1), padding=(1, 1))\n",
       "        )\n",
       "        (res_conv): Identity()\n",
       "      )\n",
       "      (2): Residual(\n",
       "        (fn): PreNorm(\n",
       "          (fn): LinearAttention(\n",
       "            (to_qkv): Conv2d(112, 384, kernel_size=(1, 1), stride=(1, 1), bias=False)\n",
       "            (to_out): Sequential(\n",
       "              (0): Conv2d(128, 112, kernel_size=(1, 1), stride=(1, 1))\n",
       "              (1): GroupNorm(1, 112, eps=1e-05, affine=True)\n",
       "            )\n",
       "          )\n",
       "          (norm): GroupNorm(1, 112, eps=1e-05, affine=True)\n",
       "        )\n",
       "      )\n",
       "      (3): Identity()\n",
       "    )\n",
       "  )\n",
       "  (ups): ModuleList(\n",
       "    (0): ModuleList(\n",
       "      (0): ConvNextBlock(\n",
       "        (mlp): Sequential(\n",
       "          (0): GELU(approximate='none')\n",
       "          (1): Linear(in_features=112, out_features=224, bias=True)\n",
       "        )\n",
       "        (ds_conv): Conv2d(224, 224, kernel_size=(7, 7), stride=(1, 1), padding=(3, 3), groups=224)\n",
       "        (net): Sequential(\n",
       "          (0): GroupNorm(1, 224, eps=1e-05, affine=True)\n",
       "          (1): Conv2d(224, 112, kernel_size=(3, 3), stride=(1, 1), padding=(1, 1))\n",
       "          (2): GELU(approximate='none')\n",
       "          (3): GroupNorm(1, 112, eps=1e-05, affine=True)\n",
       "          (4): Conv2d(112, 56, kernel_size=(3, 3), stride=(1, 1), padding=(1, 1))\n",
       "        )\n",
       "        (res_conv): Conv2d(224, 56, kernel_size=(1, 1), stride=(1, 1))\n",
       "      )\n",
       "      (1): ConvNextBlock(\n",
       "        (mlp): Sequential(\n",
       "          (0): GELU(approximate='none')\n",
       "          (1): Linear(in_features=112, out_features=56, bias=True)\n",
       "        )\n",
       "        (ds_conv): Conv2d(56, 56, kernel_size=(7, 7), stride=(1, 1), padding=(3, 3), groups=56)\n",
       "        (net): Sequential(\n",
       "          (0): GroupNorm(1, 56, eps=1e-05, affine=True)\n",
       "          (1): Conv2d(56, 112, kernel_size=(3, 3), stride=(1, 1), padding=(1, 1))\n",
       "          (2): GELU(approximate='none')\n",
       "          (3): GroupNorm(1, 112, eps=1e-05, affine=True)\n",
       "          (4): Conv2d(112, 56, kernel_size=(3, 3), stride=(1, 1), padding=(1, 1))\n",
       "        )\n",
       "        (res_conv): Identity()\n",
       "      )\n",
       "      (2): Residual(\n",
       "        (fn): PreNorm(\n",
       "          (fn): LinearAttention(\n",
       "            (to_qkv): Conv2d(56, 384, kernel_size=(1, 1), stride=(1, 1), bias=False)\n",
       "            (to_out): Sequential(\n",
       "              (0): Conv2d(128, 56, kernel_size=(1, 1), stride=(1, 1))\n",
       "              (1): GroupNorm(1, 56, eps=1e-05, affine=True)\n",
       "            )\n",
       "          )\n",
       "          (norm): GroupNorm(1, 56, eps=1e-05, affine=True)\n",
       "        )\n",
       "      )\n",
       "      (3): ConvTranspose2d(56, 56, kernel_size=(4, 4), stride=(2, 2), padding=(1, 1))\n",
       "    )\n",
       "    (1): ModuleList(\n",
       "      (0): ConvNextBlock(\n",
       "        (mlp): Sequential(\n",
       "          (0): GELU(approximate='none')\n",
       "          (1): Linear(in_features=112, out_features=112, bias=True)\n",
       "        )\n",
       "        (ds_conv): Conv2d(112, 112, kernel_size=(7, 7), stride=(1, 1), padding=(3, 3), groups=112)\n",
       "        (net): Sequential(\n",
       "          (0): GroupNorm(1, 112, eps=1e-05, affine=True)\n",
       "          (1): Conv2d(112, 56, kernel_size=(3, 3), stride=(1, 1), padding=(1, 1))\n",
       "          (2): GELU(approximate='none')\n",
       "          (3): GroupNorm(1, 56, eps=1e-05, affine=True)\n",
       "          (4): Conv2d(56, 28, kernel_size=(3, 3), stride=(1, 1), padding=(1, 1))\n",
       "        )\n",
       "        (res_conv): Conv2d(112, 28, kernel_size=(1, 1), stride=(1, 1))\n",
       "      )\n",
       "      (1): ConvNextBlock(\n",
       "        (mlp): Sequential(\n",
       "          (0): GELU(approximate='none')\n",
       "          (1): Linear(in_features=112, out_features=28, bias=True)\n",
       "        )\n",
       "        (ds_conv): Conv2d(28, 28, kernel_size=(7, 7), stride=(1, 1), padding=(3, 3), groups=28)\n",
       "        (net): Sequential(\n",
       "          (0): GroupNorm(1, 28, eps=1e-05, affine=True)\n",
       "          (1): Conv2d(28, 56, kernel_size=(3, 3), stride=(1, 1), padding=(1, 1))\n",
       "          (2): GELU(approximate='none')\n",
       "          (3): GroupNorm(1, 56, eps=1e-05, affine=True)\n",
       "          (4): Conv2d(56, 28, kernel_size=(3, 3), stride=(1, 1), padding=(1, 1))\n",
       "        )\n",
       "        (res_conv): Identity()\n",
       "      )\n",
       "      (2): Residual(\n",
       "        (fn): PreNorm(\n",
       "          (fn): LinearAttention(\n",
       "            (to_qkv): Conv2d(28, 384, kernel_size=(1, 1), stride=(1, 1), bias=False)\n",
       "            (to_out): Sequential(\n",
       "              (0): Conv2d(128, 28, kernel_size=(1, 1), stride=(1, 1))\n",
       "              (1): GroupNorm(1, 28, eps=1e-05, affine=True)\n",
       "            )\n",
       "          )\n",
       "          (norm): GroupNorm(1, 28, eps=1e-05, affine=True)\n",
       "        )\n",
       "      )\n",
       "      (3): ConvTranspose2d(28, 28, kernel_size=(4, 4), stride=(2, 2), padding=(1, 1))\n",
       "    )\n",
       "  )\n",
       "  (mid_block1): ConvNextBlock(\n",
       "    (mlp): Sequential(\n",
       "      (0): GELU(approximate='none')\n",
       "      (1): Linear(in_features=112, out_features=112, bias=True)\n",
       "    )\n",
       "    (ds_conv): Conv2d(112, 112, kernel_size=(7, 7), stride=(1, 1), padding=(3, 3), groups=112)\n",
       "    (net): Sequential(\n",
       "      (0): GroupNorm(1, 112, eps=1e-05, affine=True)\n",
       "      (1): Conv2d(112, 224, kernel_size=(3, 3), stride=(1, 1), padding=(1, 1))\n",
       "      (2): GELU(approximate='none')\n",
       "      (3): GroupNorm(1, 224, eps=1e-05, affine=True)\n",
       "      (4): Conv2d(224, 112, kernel_size=(3, 3), stride=(1, 1), padding=(1, 1))\n",
       "    )\n",
       "    (res_conv): Identity()\n",
       "  )\n",
       "  (mid_attn): Residual(\n",
       "    (fn): PreNorm(\n",
       "      (fn): Attention(\n",
       "        (to_qkv): Conv2d(112, 384, kernel_size=(1, 1), stride=(1, 1), bias=False)\n",
       "        (to_out): Conv2d(128, 112, kernel_size=(1, 1), stride=(1, 1))\n",
       "      )\n",
       "      (norm): GroupNorm(1, 112, eps=1e-05, affine=True)\n",
       "    )\n",
       "  )\n",
       "  (mid_block2): ConvNextBlock(\n",
       "    (mlp): Sequential(\n",
       "      (0): GELU(approximate='none')\n",
       "      (1): Linear(in_features=112, out_features=112, bias=True)\n",
       "    )\n",
       "    (ds_conv): Conv2d(112, 112, kernel_size=(7, 7), stride=(1, 1), padding=(3, 3), groups=112)\n",
       "    (net): Sequential(\n",
       "      (0): GroupNorm(1, 112, eps=1e-05, affine=True)\n",
       "      (1): Conv2d(112, 224, kernel_size=(3, 3), stride=(1, 1), padding=(1, 1))\n",
       "      (2): GELU(approximate='none')\n",
       "      (3): GroupNorm(1, 224, eps=1e-05, affine=True)\n",
       "      (4): Conv2d(224, 112, kernel_size=(3, 3), stride=(1, 1), padding=(1, 1))\n",
       "    )\n",
       "    (res_conv): Identity()\n",
       "  )\n",
       "  (final_conv): Sequential(\n",
       "    (0): ConvNextBlock(\n",
       "      (ds_conv): Conv2d(28, 28, kernel_size=(7, 7), stride=(1, 1), padding=(3, 3), groups=28)\n",
       "      (net): Sequential(\n",
       "        (0): GroupNorm(1, 28, eps=1e-05, affine=True)\n",
       "        (1): Conv2d(28, 56, kernel_size=(3, 3), stride=(1, 1), padding=(1, 1))\n",
       "        (2): GELU(approximate='none')\n",
       "        (3): GroupNorm(1, 56, eps=1e-05, affine=True)\n",
       "        (4): Conv2d(56, 28, kernel_size=(3, 3), stride=(1, 1), padding=(1, 1))\n",
       "      )\n",
       "      (res_conv): Identity()\n",
       "    )\n",
       "    (1): Conv2d(28, 1, kernel_size=(1, 1), stride=(1, 1))\n",
       "  )\n",
       ")"
      ]
     },
     "execution_count": 2,
     "metadata": {},
     "output_type": "execute_result"
    }
   ],
   "source": [
    "import lightning.pytorch as pl\n",
    "\n",
    "from lightning_module import DiffusionModel\n",
    "from my_dataset import get_fashion_mnist\n",
    "from forward_process import sample\n",
    "import torch\n",
    "\n",
    "torch.set_float32_matmul_precision('high')\n",
    "\n",
    "image_size, channels, dataloader = get_fashion_mnist()\n",
    "\n",
    "model = DiffusionModel(image_size, channels)\n",
    "\n",
    "trainer = pl.Trainer(max_epochs=8)\n",
    "trainer.fit(model=model, train_dataloaders=dataloader)\n",
    "\n",
    "model.net.eval()\n",
    "\n",
    "# wandb.finish()"
   ]
  },
  {
   "cell_type": "markdown",
   "metadata": {},
   "source": [
    "# Generate Image"
   ]
  },
  {
   "cell_type": "code",
   "execution_count": 31,
   "metadata": {},
   "outputs": [
    {
     "name": "stderr",
     "output_type": "stream",
     "text": [
      "sampling loop time step: 100%|██████████| 200/200 [00:02<00:00, 69.52it/s]\n"
     ]
    }
   ],
   "source": [
    "samples = sample(model.net, image_size=image_size, batch_size=1, channels=channels)"
   ]
  },
  {
   "cell_type": "code",
   "execution_count": 32,
   "metadata": {},
   "outputs": [
    {
     "data": {
      "text/plain": [
       "<matplotlib.image.AxesImage at 0x7ff7c74554f0>"
      ]
     },
     "execution_count": 32,
     "metadata": {},
     "output_type": "execute_result"
    },
    {
     "data": {
      "image/png": "[encoded data removed]",
      "text/plain": [
       "<Figure size 640x480 with 1 Axes>"
      ]
     },
     "metadata": {},
     "output_type": "display_data"
    }
   ],
   "source": [
    "import matplotlib.pyplot as plt\n",
    "\n",
    "image = samples[-1][0]\n",
    "plt.imshow(\n",
    "    image.reshape(image_size, image_size, channels), cmap=\"gray\"\n",
    ")\n"
   ]
  },
  {
   "cell_type": "code",
   "execution_count": 33,
   "metadata": {},
   "outputs": [],
   "source": [
    "import numpy as np\n",
    "\n",
    "image = np.clip(image, a_max=1, a_min=-1)"
   ]
  },
  {
   "cell_type": "code",
   "execution_count": 34,
   "metadata": {},
   "outputs": [],
   "source": [
    "import numpy as np\n",
    "\n",
    "from torchvision.transforms import Compose, ToTensor, Lambda, ToPILImage, CenterCrop, Resize\n",
    "\n",
    "\n",
    "reverse_transform = Compose([\n",
    "     Lambda(lambda t: (t + 1) / 2),\n",
    "     # Lambda(lambda t: t.permute(1, 2, 0)), # CHW to HWC\n",
    "     Lambda(lambda t: t * 255.),\n",
    "     Lambda(lambda t: t.astype(np.uint8)),\n",
    "])\n"
   ]
  },
  {
   "cell_type": "code",
   "execution_count": 35,
   "metadata": {},
   "outputs": [],
   "source": [
    "image = reverse_transform(image)"
   ]
  },
  {
   "cell_type": "code",
   "execution_count": 36,
   "metadata": {},
   "outputs": [],
   "source": [
    "image = np.transpose(image, (1, 2, 0))"
   ]
  },
  {
   "cell_type": "code",
   "execution_count": 37,
   "metadata": {},
   "outputs": [
    {
     "data": {
      "text/plain": [
       "<matplotlib.image.AxesImage at 0x7ff782dfcaf0>"
      ]
     },
     "execution_count": 37,
     "metadata": {},
     "output_type": "execute_result"
    },
    {
     "data": {
      "image/png": "[encoded data removed]",
      "text/plain": [
       "<Figure size 640x480 with 1 Axes>"
      ]
     },
     "metadata": {},
     "output_type": "display_data"
    }
   ],
   "source": [
    "import matplotlib.pyplot as plt\n",
    "\n",
    "random_index = 0\n",
    "plt.imshow(\n",
    "    image, cmap=\"gray\"\n",
    ")"
   ]
  }
 ],
 "metadata": {
  "kernelspec": {
   "display_name": "pytorch_env",
   "language": "python",
   "name": "python3"
  },
  "language_info": {
   "codemirror_mode": {
    "name": "ipython",
    "version": 3
   },
   "file_extension": ".py",
   "mimetype": "text/x-python",
   "name": "python",
   "nbconvert_exporter": "python",
   "pygments_lexer": "ipython3",
   "version": "3.8.17"
  },
  "orig_nbformat": 4
 },
 "nbformat": 4,
 "nbformat_minor": 2
}
