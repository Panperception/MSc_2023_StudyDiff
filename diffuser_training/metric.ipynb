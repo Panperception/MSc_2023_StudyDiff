{
 "cells": [
  {
   "cell_type": "code",
   "execution_count": 1,
   "metadata": {},
   "outputs": [
    {
     "data": {
      "text/plain": [
       "['1000']"
      ]
     },
     "execution_count": 1,
     "metadata": {},
     "output_type": "execute_result"
    }
   ],
   "source": [
    "import os\n",
    "\n",
    "dataset_dir = r'/root/autodl-tmp/dataset/anime_face_all'\n",
    "train_dataset_name = dataset_dir.split('/')[-1]\n",
    "\n",
    "model_dir = f'/root/autodl-tmp/trained_models/{train_dataset_name}'\n",
    "generated_img_dir = f'/root/autodl-tmp/generated_img/{train_dataset_name}'\n",
    "pure_train_img_dir = f'/root/autodl-tmp/pure_train_img/{train_dataset_name}'\n",
    "\n",
    "generate_epoch = 2\n",
    "generate_batch = 64\n",
    "num_of_model = 100\n",
    "\n",
    "model_files = os.listdir(model_dir)\n",
    "\n",
    "model_files = model_files[0:num_of_model]\n",
    "model_files"
   ]
  },
  {
   "cell_type": "markdown",
   "metadata": {},
   "source": [
    "# 保存训练图片"
   ]
  },
  {
   "cell_type": "code",
   "execution_count": null,
   "metadata": {},
   "outputs": [],
   "source": [
    "from datasets import load_from_disk\n",
    "from tqdm import tqdm\n",
    "\n",
    "dataset = load_from_disk(dataset_dir)\n",
    "dataset = dataset['train']\n",
    "\n",
    "os.makedirs(pure_train_img_dir, exist_ok=True)\n",
    "\n",
    "for i in tqdm(range(len(dataset))):\n",
    "    image = dataset[i]['image']\n",
    "    image = image.resize((128, 128))\n",
    "    image = image.convert('RGB')\n",
    "    image_name = '{}.png'.format(i)\n",
    "    image.save(os.path.join(pure_train_img_dir, image_name))"
   ]
  },
  {
   "cell_type": "markdown",
   "metadata": {},
   "source": [
    "# 生成图片"
   ]
  },
  {
   "cell_type": "code",
   "execution_count": 2,
   "metadata": {},
   "outputs": [
    {
     "data": {
      "application/vnd.jupyter.widget-view+json": {
       "model_id": "3cbe8f4fb13b4473bd75d95f791d79b0",
       "version_major": 2,
       "version_minor": 0
      },
      "text/plain": [
       "Loading pipeline components...:   0%|          | 0/2 [00:00<?, ?it/s]"
      ]
     },
     "metadata": {},
     "output_type": "display_data"
    },
    {
     "data": {
      "application/vnd.jupyter.widget-view+json": {
       "model_id": "af2322befafc4b02911cc3535cc5904f",
       "version_major": 2,
       "version_minor": 0
      },
      "text/plain": [
       "  0%|          | 0/1000 [00:00<?, ?it/s]"
      ]
     },
     "metadata": {},
     "output_type": "display_data"
    },
    {
     "data": {
      "application/vnd.jupyter.widget-view+json": {
       "model_id": "dec6a3dbe707490081115f4da71461f3",
       "version_major": 2,
       "version_minor": 0
      },
      "text/plain": [
       "  0%|          | 0/1000 [00:00<?, ?it/s]"
      ]
     },
     "metadata": {},
     "output_type": "display_data"
    },
    {
     "name": "stdout",
     "output_type": "stream",
     "text": [
      "{\"1000\": \"0:08:25.447387\"}\n",
      "['/root/autodl-tmp/generated_img/anime_face_all/1000']\n"
     ]
    }
   ],
   "source": [
    "from diffusers import DDPMPipeline\n",
    "from datetime import datetime\n",
    "import json\n",
    "\n",
    "generate_time = {}\n",
    "generate_img_dir_list = []\n",
    "\n",
    "for model_file in model_files:\n",
    "\n",
    "    # get inference step\n",
    "    num_inference_steps = int(model_file)\n",
    "\n",
    "    # create generate image dir\n",
    "    current_generate_img_dir = os.path.join(generated_img_dir, model_file)\n",
    "    generate_img_dir_list.append(current_generate_img_dir)\n",
    "    os.makedirs(current_generate_img_dir, exist_ok=True)\n",
    "\n",
    "    # load pipeline\n",
    "    model_file = os.path.join(model_dir, model_file)\n",
    "    pipeline = DDPMPipeline.from_pretrained(model_file)\n",
    "    pipeline.to('cuda')\n",
    "\n",
    "    # generate image\n",
    "    generate_imgs = []\n",
    "    start = datetime.now()\n",
    "    for _ in range(generate_epoch):\n",
    "        images = pipeline(generate_batch, num_inference_steps=num_inference_steps).images\n",
    "        generate_imgs.extend(images)\n",
    "    end = datetime.now()\n",
    "    generate_time[num_inference_steps] = str(end - start)\n",
    "\n",
    "    # save image\n",
    "    for i in range(len(generate_imgs)):\n",
    "        current_image = generate_imgs[i]\n",
    "        current_image_file = '{}.png'.format(i)\n",
    "        current_image.save(os.path.join(current_generate_img_dir, current_image_file))\n",
    "\n",
    "print(json.dumps(generate_time))\n",
    "print(generate_img_dir_list)"
   ]
  },
  {
   "cell_type": "markdown",
   "metadata": {},
   "source": [
    "# 计算fid\n",
    "\n",
    "```bash\n",
    "python -m pytorch_fid /root/autodl-tmp/pure_train_img/oxford_flower /root/autodl-tmp/generated_img/oxford_flower/100\n",
    "```"
   ]
  },
  {
   "cell_type": "code",
   "execution_count": null,
   "metadata": {},
   "outputs": [],
   "source": [
    "import subprocess\n",
    "\n",
    "fid_list = {}\n",
    "for current_dir in generate_img_dir_list:\n",
    "    result = subprocess.run(['python', \n",
    "                            '-m', \n",
    "                            'pytorch_fid', \n",
    "                            pure_train_img_dir,\n",
    "                            current_dir], stdout=subprocess.PIPE).stdout.decode('utf-8')\n",
    "    fid_list[current_dir] = result\n",
    "json.dumps(fid_list)"
   ]
  },
  {
   "cell_type": "code",
   "execution_count": 2,
   "metadata": {},
   "outputs": [],
   "source": [
    "import json\n",
    "\n",
    "# tmp = {}\n",
    "# for key in anime_face_fid:\n",
    "#     inference_step = key.split('/')[-1]\n",
    "#     fid = anime_face_fid[key]\n",
    "#     tmp[int(inference_step)] = round(float(fid[6:-2]), 2)\n",
    "# tmp = dict(sorted(tmp.items()))\n",
    "# json.dumps(tmp)\n",
    "\n",
    "# oxford_flower\n",
    "oxford_flower_time = {\"100\": \"0:00:50.620381\", \"1000\": \"0:08:26.066021\", \"1100\": \"0:09:16.761789\", \"1200\": \"0:10:07.138548\", \"1300\": \"0:10:57.510178\", \"1400\": \"0:11:48.029013\", \"1500\": \"0:12:38.722301\", \"1600\": \"0:13:28.928998\", \"1700\": \"0:14:19.622817\", \"1800\": \"0:15:10.646142\", \"1900\": \"0:16:01.634605\", \"200\": \"0:01:41.190131\", \"2000\": \"0:16:52.135326\", \"300\": \"0:02:31.768917\", \"400\": \"0:03:22.217893\", \"500\": \"0:04:13.146280\", \"600\": \"0:05:03.682271\", \"700\": \"0:05:54.193482\", \"800\": \"0:06:44.669052\", \"900\": \"0:07:35.356787\"}\n",
    "oxford_flower_fid = {\"/root/autodl-tmp/generated_img/oxford_flower/100\": \"FID:  369.8776792058484\\\\n\", \"/root/autodl-tmp/generated_img/oxford_flower/1000\": \"FID:  142.55629752929576\\\\n\", \"/root/autodl-tmp/generated_img/oxford_flower/1100\": \"FID:  146.50291275199405\\\\n\", \"/root/autodl-tmp/generated_img/oxford_flower/1200\": \"FID:  141.07067301339657\\\\n\", \"/root/autodl-tmp/generated_img/oxford_flower/1300\": \"FID:  127.78704059762066\\\\n\", \"/root/autodl-tmp/generated_img/oxford_flower/1400\": \"FID:  140.60170796390918\\\\n\", \"/root/autodl-tmp/generated_img/oxford_flower/1500\": \"FID:  132.09421200167884\\\\n\", \"/root/autodl-tmp/generated_img/oxford_flower/1600\": \"FID:  145.09557986584895\\\\n\", \"/root/autodl-tmp/generated_img/oxford_flower/1700\": \"FID:  139.22624071648505\\\\n\", \"/root/autodl-tmp/generated_img/oxford_flower/1800\": \"FID:  134.85808825226536\\\\n\", \"/root/autodl-tmp/generated_img/oxford_flower/1900\": \"FID:  139.89393895547383\\\\n\", \"/root/autodl-tmp/generated_img/oxford_flower/200\": \"FID:  208.7701907995583\\\\n\", \"/root/autodl-tmp/generated_img/oxford_flower/2000\": \"FID:  144.0710941787677\\\\n\", \"/root/autodl-tmp/generated_img/oxford_flower/300\": \"FID:  176.45799993799216\\\\n\", \"/root/autodl-tmp/generated_img/oxford_flower/400\": \"FID:  150.35638167998042\\\\n\", \"/root/autodl-tmp/generated_img/oxford_flower/500\": \"FID:  125.7740520129102\\\\n\", \"/root/autodl-tmp/generated_img/oxford_flower/600\": \"FID:  116.52463441937329\\\\n\", \"/root/autodl-tmp/generated_img/oxford_flower/700\": \"FID:  117.45831168501707\\\\n\", \"/root/autodl-tmp/generated_img/oxford_flower/800\": \"FID:  122.94940736170577\\\\n\", \"/root/autodl-tmp/generated_img/oxford_flower/900\": \"FID:  133.5546878883864\\\\n\"}\n",
    "oxford_flower_fid = {\"100\": 369.88, \"200\": 208.77, \"300\": 176.46, \"400\": 150.36, \"500\": 125.77, \"600\": 116.52, \"700\": 117.46, \"800\": 122.95, \"900\": 133.55, \"1000\": 142.56, \"1100\": 146.5, \"1200\": 141.07, \"1300\": 127.79, \"1400\": 140.6, \"1500\": 132.09, \"1600\": 145.1, \"1700\": 139.23, \"1800\": 134.86, \"1900\": 139.89, \"2000\": 144.07}\n",
    "\n",
    "# smithsonian_butterfly\n",
    "smithsonian_butterfly_time = {\"100\": \"0:00:50.759654\", \"200\": \"0:01:41.229890\", \"300\": \"0:02:31.938889\", \"400\": \"0:03:22.673759\", \"500\": \"0:04:13.229171\", \"600\": \"0:05:03.903153\", \"700\": \"0:05:54.435045\", \"800\": \"0:06:45.308930\", \"900\": \"0:07:35.241919\", \"1000\": \"0:08:26.510326\", \"1100\": \"0:09:16.844281\", \"1200\": \"0:10:07.483987\", \"1300\": \"0:10:57.921574\", \"1400\": \"0:11:48.652164\", \"1500\": \"0:12:39.161810\", \"1600\": \"0:13:29.898042\", \"1700\": \"0:14:20.534768\", \"1800\": \"0:15:11.547640\", \"1900\": \"0:16:02.031062\", \"2000\": \"0:16:52.207837\"}\n",
    "smithsonian_butterfly_fid = {\"/root/autodl-tmp/generated_img/smithsonian_butterfly/100\": \"FID:  464.2724543721416\\\\n\", \"/root/autodl-tmp/generated_img/smithsonian_butterfly/200\": \"FID:  414.5440216196572\\\\n\", \"/root/autodl-tmp/generated_img/smithsonian_butterfly/300\": \"FID:  436.98839668147986\\\\n\", \"/root/autodl-tmp/generated_img/smithsonian_butterfly/400\": \"FID:  371.7241466508707\\\\n\", \"/root/autodl-tmp/generated_img/smithsonian_butterfly/500\": \"FID:  349.5808687373876\\\\n\", \"/root/autodl-tmp/generated_img/smithsonian_butterfly/600\": \"FID:  325.8778825706849\\\\n\", \"/root/autodl-tmp/generated_img/smithsonian_butterfly/700\": \"FID:  316.47545036237176\\\\n\", \"/root/autodl-tmp/generated_img/smithsonian_butterfly/800\": \"FID:  317.7606031161963\\\\n\", \"/root/autodl-tmp/generated_img/smithsonian_butterfly/900\": \"FID:  314.48618132691195\\\\n\", \"/root/autodl-tmp/generated_img/smithsonian_butterfly/1000\": \"FID:  313.2163031170472\\\\n\", \"/root/autodl-tmp/generated_img/smithsonian_butterfly/1100\": \"FID:  319.56438650257286\\\\n\", \"/root/autodl-tmp/generated_img/smithsonian_butterfly/1200\": \"FID:  316.08401619145786\\\\n\", \"/root/autodl-tmp/generated_img/smithsonian_butterfly/1300\": \"FID:  314.73984079334906\\\\n\", \"/root/autodl-tmp/generated_img/smithsonian_butterfly/1400\": \"FID:  314.3764072779564\\\\n\", \"/root/autodl-tmp/generated_img/smithsonian_butterfly/1500\": \"FID:  314.95715263423733\\\\n\", \"/root/autodl-tmp/generated_img/smithsonian_butterfly/1600\": \"FID:  315.8355223364883\\\\n\", \"/root/autodl-tmp/generated_img/smithsonian_butterfly/1700\": \"FID:  308.777842887879\\\\n\", \"/root/autodl-tmp/generated_img/smithsonian_butterfly/1800\": \"FID:  315.87201668660316\\\\n\", \"/root/autodl-tmp/generated_img/smithsonian_butterfly/1900\": \"FID:  309.6636257749532\\\\n\", \"/root/autodl-tmp/generated_img/smithsonian_butterfly/2000\": \"FID:  321.5550042998717\\\\n\"}\n",
    "smithsonian_butterfly_fid = {\"100\": 464.27, \"200\": 414.54, \"300\": 436.99, \"400\": 371.72, \"500\": 349.58, \"600\": 325.88, \"700\": 316.48, \"800\": 317.76, \"900\": 314.49, \"1000\": 313.22, \"1100\": 319.56, \"1200\": 316.08, \"1300\": 314.74, \"1400\": 314.38, \"1500\": 314.96, \"1600\": 315.84, \"1700\": 308.78, \"1800\": 315.87, \"1900\": 309.66, \"2000\": 321.56}\n",
    "\n",
    "# anime face\n",
    "anime_face_time = {\"100\": \"0:00:50.658891\", \"200\": \"0:01:41.059113\", \"300\": \"0:02:31.702856\", \"400\": \"0:03:22.221767\", \"500\": \"0:04:12.774080\", \"600\": \"0:05:03.319826\", \"700\": \"0:05:53.889197\", \"800\": \"0:06:44.373179\", \"900\": \"0:07:34.993387\", \"1000\": \"0:08:25.538796\", \"1100\": \"0:09:16.068998\", \"1200\": \"0:10:06.696925\", \"1300\": \"0:10:57.223643\", \"1400\": \"0:11:47.775845\", \"1500\": \"0:12:38.344527\", \"1600\": \"0:13:28.913110\", \"1700\": \"0:14:19.436052\", \"1800\": \"0:15:10.068166\", \"1900\": \"0:16:00.703198\", \"2000\": \"0:16:51.148078\"}\n",
    "anime_face_fid = {\"/root/autodl-tmp/generated_img/anime_face/100\": \"FID:  313.4714258936905\\\\n\", \"/root/autodl-tmp/generated_img/anime_face/200\": \"FID:  270.7401079593031\\\\n\", \"/root/autodl-tmp/generated_img/anime_face/300\": \"FID:  229.20210225700657\\\\n\", \"/root/autodl-tmp/generated_img/anime_face/400\": \"FID:  119.71961035097232\\\\n\", \"/root/autodl-tmp/generated_img/anime_face/500\": \"FID:  100.95760680481968\\\\n\", \"/root/autodl-tmp/generated_img/anime_face/600\": \"FID:  95.54623592856649\\\\n\", \"/root/autodl-tmp/generated_img/anime_face/700\": \"FID:  96.3206619396052\\\\n\", \"/root/autodl-tmp/generated_img/anime_face/800\": \"FID:  96.50408440971233\\\\n\", \"/root/autodl-tmp/generated_img/anime_face/900\": \"FID:  109.63730507537554\\\\n\", \"/root/autodl-tmp/generated_img/anime_face/1000\": \"FID:  114.21639966805992\\\\n\", \"/root/autodl-tmp/generated_img/anime_face/1100\": \"FID:  114.28623965508461\\\\n\", \"/root/autodl-tmp/generated_img/anime_face/1200\": \"FID:  115.73106375887062\\\\n\", \"/root/autodl-tmp/generated_img/anime_face/1300\": \"FID:  107.03419744180826\\\\n\", \"/root/autodl-tmp/generated_img/anime_face/1400\": \"FID:  117.40251490755358\\\\n\", \"/root/autodl-tmp/generated_img/anime_face/1500\": \"FID:  111.05104751389939\\\\n\", \"/root/autodl-tmp/generated_img/anime_face/1600\": \"FID:  113.85158925703797\\\\n\", \"/root/autodl-tmp/generated_img/anime_face/1700\": \"FID:  117.59748429172805\\\\n\", \"/root/autodl-tmp/generated_img/anime_face/1800\": \"FID:  111.05559241833654\\\\n\", \"/root/autodl-tmp/generated_img/anime_face/1900\": \"FID:  118.79752567379126\\\\n\", \"/root/autodl-tmp/generated_img/anime_face/2000\": \"FID:  109.04190712543053\\\\n\"}\n",
    "anime_face_fid = {\"100\": 313.47, \"200\": 270.74, \"300\": 229.2, \"400\": 119.72, \"500\": 100.96, \"600\": 95.55, \"700\": 96.32, \"800\": 96.5, \"900\": 109.64, \"1000\": 114.22, \"1100\": 114.29, \"1200\": 115.73, \"1300\": 107.03, \"1400\": 117.4, \"1500\": 111.05, \"1600\": 113.85, \"1700\": 117.6, \"1800\": 111.06, \"1900\": 118.8, \"2000\": 109.04}"
   ]
  },
  {
   "cell_type": "code",
   "execution_count": null,
   "metadata": {},
   "outputs": [],
   "source": [
    "table_str = ''\n",
    "for i in range(100, 2001, 100):\n",
    "    i = str(i)\n",
    "    table_str += i + \\\n",
    "        ' & ' + str(oxford_flower_fid[i]) \\\n",
    "              + ' & ' + str(smithsonian_butterfly_fid[i]) \\\n",
    "                + ' & ' + str(anime_face_fid[i])  + ' \\\\\\\\\\n\\\\hline\\n'\n",
    "print(table_str)"
   ]
  },
  {
   "cell_type": "code",
   "execution_count": 4,
   "metadata": {},
   "outputs": [
    {
     "name": "stdout",
     "output_type": "stream",
     "text": [
      "100 & 0:08:20 \\\\\n",
      "\\hline\n",
      "200 & 0:16:50 \\\\\n",
      "\\hline\n",
      "300 & 0:25:10 \\\\\n",
      "\\hline\n",
      "400 & 0:33:40 \\\\\n",
      "\\hline\n",
      "500 & 0:42:10 \\\\\n",
      "\\hline\n",
      "600 & 0:50:30 \\\\\n",
      "\\hline\n",
      "700 & 0:59:00 \\\\\n",
      "\\hline\n",
      "800 & 1:07:20 \\\\\n",
      "\\hline\n",
      "900 & 1:15:50 \\\\\n",
      "\\hline\n",
      "1000 & 1:24:20 \\\\\n",
      "\\hline\n",
      "1100 & 1:32:40 \\\\\n",
      "\\hline\n",
      "1200 & 1:41:10 \\\\\n",
      "\\hline\n",
      "1300 & 1:49:30 \\\\\n",
      "\\hline\n",
      "1400 & 1:58:00 \\\\\n",
      "\\hline\n",
      "1500 & 2:06:20 \\\\\n",
      "\\hline\n",
      "1600 & 2:14:40 \\\\\n",
      "\\hline\n",
      "1700 & 2:23:10 \\\\\n",
      "\\hline\n",
      "1800 & 2:31:40 \\\\\n",
      "\\hline\n",
      "1900 & 2:40:10 \\\\\n",
      "\\hline\n",
      "2000 & 2:48:40 \\\\\n",
      "\\hline\n",
      "\n"
     ]
    }
   ],
   "source": [
    "from datetime import timedelta\n",
    "\n",
    "def convert_time(s):\n",
    "    hours, minutes, rest = s.split(\":\")\n",
    "    seconds, _ = rest.split(\".\")\n",
    "    result = timedelta(hours=int(hours), minutes=int(minutes), seconds=int(seconds)) * 10\n",
    "    return str(result), result.seconds // 60\n",
    "\n",
    "table_str = ''\n",
    "for i in range(100, 2001, 100):\n",
    "    i = str(i)\n",
    "    table_str += i + \\\n",
    "        ' & ' + str(convert_time(oxford_flower_time[i])[0])  + ' \\\\\\\\\\n\\\\hline\\n'\n",
    "print(table_str)"
   ]
  },
  {
   "cell_type": "code",
   "execution_count": null,
   "metadata": {},
   "outputs": [],
   "source": [
    "line_chart_str = ''\n",
    "tmp = []\n",
    "for i in range(100, 2001, 100):\n",
    "    i = str(i)\n",
    "    tmp.append('(' + i + ',' + str(anime_face_fid[i]) + ')')\n",
    "print(''.join(tmp))"
   ]
  },
  {
   "cell_type": "code",
   "execution_count": null,
   "metadata": {},
   "outputs": [],
   "source": [
    "from datetime import timedelta\n",
    "\n",
    "def convert_time(s):\n",
    "    hours, minutes, rest = s.split(\":\")\n",
    "    seconds, _ = rest.split(\".\")\n",
    "    result = timedelta(hours=int(hours), minutes=int(minutes), seconds=int(seconds)) * 10\n",
    "    return str(result), result.seconds // 60\n",
    "\n",
    "time_list = oxford_flower_time\n",
    "fid_list = oxford_flower_fid\n",
    "experiment_result = {}\n",
    "\n",
    "for key in fid_list:\n",
    "    fid = fid_list[key]\n",
    "    fid = fid[6:-2]\n",
    "    inference_step = key.split('/')[-1]\n",
    "    experiment_result[int(inference_step)] = {\n",
    "        'time': time_list[inference_step],\n",
    "        'fid': fid\n",
    "    }\n",
    "\n",
    "experiment_result = dict(sorted(experiment_result.items()))\n",
    "# print(experiment_result)\n",
    "\n",
    "table_str = ''\n",
    "figure_str = ''\n",
    "fid_figure_str = ''\n",
    "\n",
    "for inference_step in experiment_result:\n",
    "    time, time_minutes = convert_time(experiment_result[inference_step]['time'])\n",
    "    fid = float(experiment_result[inference_step]['fid'])\n",
    "    fid = str(round(fid, 2))\n",
    "    table_str += str(inference_step) + ' & ' + time + ' & ' + fid + ' \\\\\\\\\\n\\\\hline\\n'\n",
    "\n",
    "    figure_str += '(' + str(inference_step) + ',' + str(time_minutes) + ')'\n",
    "    fid_figure_str += '(' + str(inference_step) + ',' + str(fid) + ')'\n",
    "\n",
    "# print(figure_str)\n",
    "# print(table_str)\n",
    "print(fid_figure_str)"
   ]
  }
 ],
 "metadata": {
  "kernelspec": {
   "display_name": "pytorch_env",
   "language": "python",
   "name": "python3"
  },
  "language_info": {
   "codemirror_mode": {
    "name": "ipython",
    "version": 3
   },
   "file_extension": ".py",
   "mimetype": "text/x-python",
   "name": "python",
   "nbconvert_exporter": "python",
   "pygments_lexer": "ipython3",
   "version": "3.8.17"
  },
  "orig_nbformat": 4
 },
 "nbformat": 4,
 "nbformat_minor": 2
}
