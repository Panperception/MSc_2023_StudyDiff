{
 "cells": [
  {
   "cell_type": "markdown",
   "metadata": {},
   "source": [
    "读取图片"
   ]
  },
  {
   "cell_type": "code",
   "execution_count": 4,
   "metadata": {},
   "outputs": [],
   "source": [
    "from datasets import load_from_disk\n",
    "import os\n",
    "from PIL import Image\n",
    "\n",
    "flower_train = load_from_disk(r'/root/autodl-tmp/dataset/oxford_flower')\n",
    "flower_train = flower_train['train']\n",
    "\n",
    "butterfly_train = load_from_disk(r'/root/autodl-tmp/dataset/smithsonian_butterfly')\n",
    "butterfly_train = butterfly_train['train']\n",
    "\n",
    "oxford_generated_dir = r'/root/autodl-tmp/generated_img/oxford_flower'\n",
    "butterfly_generated_dir = r'/root/autodl-tmp/generated_img/smithsonian_butterfly'\n",
    "\n",
    "def get_generate_image(generate_image_dir):\n",
    "    tmp = []\n",
    "    for current_dir in os.listdir(generate_image_dir):\n",
    "        tmp.append(os.path.join(generate_image_dir, current_dir))\n",
    "    generate_image_dir = sorted(tmp, key=lambda x: int(x.split('/')[-1]))\n",
    "\n",
    "    generate_image_list = []\n",
    "    for current_dir in generate_image_dir[-12:]:\n",
    "        for current_image_name in os.listdir(current_dir):\n",
    "            generate_image_list.append(Image.open(os.path.join(current_dir, current_image_name)))\n",
    "\n",
    "    return generate_image_list\n",
    "\n",
    "generate_flower = get_generate_image(oxford_generated_dir)\n",
    "generate_butterfly = get_generate_image(butterfly_generated_dir)"
   ]
  },
  {
   "cell_type": "markdown",
   "metadata": {},
   "source": [
    "辅助函数"
   ]
  },
  {
   "cell_type": "code",
   "execution_count": 5,
   "metadata": {},
   "outputs": [],
   "source": [
    "import os\n",
    "import shutil\n",
    "\n",
    "def merge_copy(src, dst):\n",
    "    # 确保源目录存在\n",
    "    if not os.path.exists(src):\n",
    "        print(f\"Error: {src} does not exist!\")\n",
    "        return\n",
    "    \n",
    "    # 如果目标目录不存在，则创建它\n",
    "    if not os.path.exists(dst):\n",
    "        os.makedirs(dst)\n",
    "\n",
    "    # 列出源目录中的所有文件和文件夹\n",
    "    for item in os.listdir(src):\n",
    "        src_item = os.path.join(src, item)\n",
    "        dst_item = os.path.join(dst, item)\n",
    "\n",
    "        # 如果是文件，则直接复制\n",
    "        if os.path.isfile(src_item):\n",
    "            shutil.copy(src_item, dst_item)\n",
    "        \n",
    "        # 如果是目录，则递归调用此函数\n",
    "        elif os.path.isdir(src_item):\n",
    "            merge_copy(src_item, dst_item)\n",
    "\n",
    "# 示例用法\n",
    "# src_folder = 'path_to_source_folder'\n",
    "# dst_folder = 'path_to_destination_folder'\n",
    "# merge_copy(src_folder, dst_folder)\n"
   ]
  },
  {
   "cell_type": "markdown",
   "metadata": {},
   "source": [
    "创建数据集"
   ]
  },
  {
   "cell_type": "code",
   "execution_count": 6,
   "metadata": {},
   "outputs": [
    {
     "name": "stderr",
     "output_type": "stream",
     "text": [
      "  0%|          | 0/200 [00:00<?, ?it/s]"
     ]
    },
    {
     "name": "stderr",
     "output_type": "stream",
     "text": [
      "100%|██████████| 200/200 [00:36<00:00,  5.42it/s]\n",
      "100%|██████████| 200/200 [00:36<00:00,  5.54it/s]\n",
      "100%|██████████| 200/200 [00:02<00:00, 87.45it/s]\n"
     ]
    }
   ],
   "source": [
    "import shutil\n",
    "from tqdm import tqdm\n",
    "\n",
    "generate_dataset_dir = r'/root/autodl-tmp/generate_dataset'\n",
    "\n",
    "if os.path.exists(generate_dataset_dir):\n",
    "    shutil.rmtree(generate_dataset_dir)\n",
    "\n",
    "def create_dataset_dir(dataset_name):\n",
    "    main_dir = os.path.join(generate_dataset_dir, dataset_name)\n",
    "    train_dir = os.path.join(main_dir, 'train')\n",
    "    test_dir = os.path.join(main_dir, 'test')\n",
    "    os.makedirs(os.path.join(train_dir, 'oxford_flower'))\n",
    "    os.makedirs(os.path.join(train_dir, 'butterfly'))\n",
    "    os.makedirs(os.path.join(test_dir, 'oxford_flower'))\n",
    "    os.makedirs(os.path.join(test_dir, 'butterfly'))\n",
    "    \n",
    "create_dataset_dir('origin')\n",
    "create_dataset_dir('synthetic')\n",
    "create_dataset_dir('mix')\n",
    "\n",
    "num_of_img = 200\n",
    "\n",
    "# 真实图片 测试集\n",
    "for i in tqdm(range(num_of_img)):\n",
    "    flower_train[i]['image'].save(f'/root/autodl-tmp/generate_dataset/origin/test/oxford_flower/{i}.png')\n",
    "    butterfly_train[i]['image'].save(f'/root/autodl-tmp/generate_dataset/origin/test/butterfly/{i}.png')\n",
    "\n",
    "merge_copy('/root/autodl-tmp/generate_dataset/origin/test',\n",
    "                     '/root/autodl-tmp/generate_dataset/mix/test/')\n",
    "merge_copy('/root/autodl-tmp/generate_dataset/origin/test/',\n",
    "                     '/root/autodl-tmp/generate_dataset/synthetic/test/')\n",
    "\n",
    "# 真实图片 训练集\n",
    "for i in tqdm(range(num_of_img, num_of_img * 2)):\n",
    "    flower_train[i]['image'].save(f'/root/autodl-tmp/generate_dataset/origin/train/oxford_flower/{i}.png')\n",
    "    butterfly_train[i]['image'].save(f'/root/autodl-tmp/generate_dataset/origin/train/butterfly/{i}.png')\n",
    "\n",
    "merge_copy('/root/autodl-tmp/generate_dataset/origin/train',\n",
    "                     '/root/autodl-tmp/generate_dataset/mix/train/')\n",
    "\n",
    "# 合成图片\n",
    "for i in tqdm(range(num_of_img)):\n",
    "    generate_flower[i].save(f'/root/autodl-tmp/generate_dataset/synthetic/train/oxford_flower/{i}.png')\n",
    "    generate_butterfly[i].save(f'/root/autodl-tmp/generate_dataset/synthetic/train/butterfly/{i}.png')\n",
    "\n",
    "merge_copy('/root/autodl-tmp/generate_dataset/synthetic/train/',\n",
    "                     '/root/autodl-tmp/generate_dataset/mix/train/')"
   ]
  }
 ],
 "metadata": {
  "kernelspec": {
   "display_name": "pytorch_env",
   "language": "python",
   "name": "python3"
  },
  "language_info": {
   "codemirror_mode": {
    "name": "ipython",
    "version": 3
   },
   "file_extension": ".py",
   "mimetype": "text/x-python",
   "name": "python",
   "nbconvert_exporter": "python",
   "pygments_lexer": "ipython3",
   "version": "3.8.17"
  },
  "orig_nbformat": 4
 },
 "nbformat": 4,
 "nbformat_minor": 2
}
